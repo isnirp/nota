{
 "cells": [
  {
   "cell_type": "markdown",
   "metadata": {},
   "source": [
    "<h3>data types</h3>\n",
    "<ul>\n",
    "<li>number: int = 1</li>\n",
    "<li>decimal: float = 15</li>\n",
    "<li>text: str = 'hello world'</li>\n",
    "<li>switch: bool = True</li>\n",
    "</ul>\n",
    "\n",
    "<h3>collection</h3>\n",
    "<ul>\n",
    "<li>names: list = ['John','Doe']</li>\n",
    "<li>cordinates: tuple = (1.00, 1.50)</li>\n",
    "<li>unique: set = {'a','b','c'}</li>\n",
    "<li>person: dict = {'name':'Jane Doe', 'age':23, 'occupation':'army'}</li>\n",
    "</ul>"
   ]
  },
  {
   "cell_type": "markdown",
   "metadata": {},
   "source": [
    "<h3>misc</h3>"
   ]
  },
  {
   "cell_type": "markdown",
   "metadata": {},
   "source": [
    "<h4>unpacking operator (*)</h4>\n",
    "<p>when used as function param, packs the elements in an iterator</p>\n",
    "<ul>\n",
    "<li>*args; pack args to a tuple</li>\n",
    "<li>**kwargs; pack kw-args to a dict</li>\n",
    "</ul>\n",
    "\n",
    "<p>when used as function argument, unpacks the elements of an iterator</p>\n",
    "<ul>\n",
    "<li>*list; unpack list to args</li>\n",
    "<li>**dict; unpack dict to kw-args</li>\n",
    "</ul>"
   ]
  },
  {
   "cell_type": "markdown",
   "metadata": {},
   "source": [
    "<h4>walrus operator (:=)</h4>\n",
    "<p>assign variables in the middle of expressions. it's a way to avoid doing an operation twice.</p>"
   ]
  },
  {
   "cell_type": "code",
   "execution_count": 1,
   "metadata": {},
   "outputs": [
    {
     "name": "stdout",
     "output_type": "stream",
     "text": [
      "True\n",
      "True\n"
     ]
    }
   ],
   "source": [
    "# example\n",
    "print(work := True)\n",
    "# instead of\n",
    "work = True\n",
    "print(work)"
   ]
  },
  {
   "cell_type": "markdown",
   "metadata": {},
   "source": [
    "<h4>data class</h4>"
   ]
  }
 ],
 "metadata": {
  "kernelspec": {
   "display_name": "Python 3",
   "language": "python",
   "name": "python3"
  },
  "language_info": {
   "codemirror_mode": {
    "name": "ipython",
    "version": 3
   },
   "file_extension": ".py",
   "mimetype": "text/x-python",
   "name": "python",
   "nbconvert_exporter": "python",
   "pygments_lexer": "ipython3",
   "version": "3.10.12"
  }
 },
 "nbformat": 4,
 "nbformat_minor": 2
}
